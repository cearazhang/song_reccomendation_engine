{
 "cells": [
  {
   "cell_type": "markdown",
   "metadata": {},
   "source": [
    "#### Compute Similarity\n",
    "The goal of this notebook is to compute song similarity between a sample of all songs and create necessary files to create a graph in neo4j."
   ]
  },
  {
   "cell_type": "code",
   "execution_count": 9,
   "metadata": {
    "ExecuteTime": {
     "end_time": "2024-03-19T16:43:55.247198Z",
     "start_time": "2024-03-19T16:43:55.245094Z"
    }
   },
   "outputs": [],
   "source": [
    "# import necessary libraries\n",
    "import pandas as pd\n",
    "from sklearn.metrics.pairwise import cosine_similarity\n",
    "from itertools import combinations\n"
   ]
  },
  {
   "cell_type": "code",
   "execution_count": 8,
   "metadata": {
    "ExecuteTime": {
     "end_time": "2024-03-19T16:43:53.797417Z",
     "start_time": "2024-03-19T16:43:53.569596Z"
    }
   },
   "outputs": [
    {
     "data": {
      "text/plain": "                 track_id                 artists  \\\n0  5SuOikwiRyPMVoIQDJUgSV             Gen Hoshino   \n1  4qPNDBW1i3p13qLCt0Ki3A            Ben Woodward   \n2  1iJBSr7s7jYXzM8EGcbK5b  Ingrid Michaelson;ZAYN   \n3  6lfxq3CG4xtTiEg7opyCyx            Kina Grannis   \n4  5vjLSffimiIP26QG5WcN2K        Chord Overstreet   \n\n                                          album_name  \\\n0                                             Comedy   \n1                                   Ghost (Acoustic)   \n2                                     To Begin Again   \n3  Crazy Rich Asians (Original Motion Picture Sou...   \n4                                            Hold On   \n\n                   track_name  popularity  duration_ms  explicit  \\\n0                      Comedy          73       230666     False   \n1            Ghost - Acoustic          55       149610     False   \n2              To Begin Again          57       210826     False   \n3  Can't Help Falling In Love          71       201933     False   \n4                     Hold On          82       198853     False   \n\n   danceability  energy  key  loudness  mode  speechiness  acousticness  \\\n0         0.676  0.4610    1    -6.746     0       0.1430        0.0322   \n1         0.420  0.1660    1   -17.235     1       0.0763        0.9240   \n2         0.438  0.3590    0    -9.734     1       0.0557        0.2100   \n3         0.266  0.0596    0   -18.515     1       0.0363        0.9050   \n4         0.618  0.4430    2    -9.681     1       0.0526        0.4690   \n\n   instrumentalness  liveness  valence    tempo  time_signature track_genre  \n0          0.000001    0.3580    0.715   87.917               4    acoustic  \n1          0.000006    0.1010    0.267   77.489               4    acoustic  \n2          0.000000    0.1170    0.120   76.332               4    acoustic  \n3          0.000071    0.1320    0.143  181.740               3    acoustic  \n4          0.000000    0.0829    0.167  119.949               4    acoustic  ",
      "text/html": "<div>\n<style scoped>\n    .dataframe tbody tr th:only-of-type {\n        vertical-align: middle;\n    }\n\n    .dataframe tbody tr th {\n        vertical-align: top;\n    }\n\n    .dataframe thead th {\n        text-align: right;\n    }\n</style>\n<table border=\"1\" class=\"dataframe\">\n  <thead>\n    <tr style=\"text-align: right;\">\n      <th></th>\n      <th>track_id</th>\n      <th>artists</th>\n      <th>album_name</th>\n      <th>track_name</th>\n      <th>popularity</th>\n      <th>duration_ms</th>\n      <th>explicit</th>\n      <th>danceability</th>\n      <th>energy</th>\n      <th>key</th>\n      <th>loudness</th>\n      <th>mode</th>\n      <th>speechiness</th>\n      <th>acousticness</th>\n      <th>instrumentalness</th>\n      <th>liveness</th>\n      <th>valence</th>\n      <th>tempo</th>\n      <th>time_signature</th>\n      <th>track_genre</th>\n    </tr>\n  </thead>\n  <tbody>\n    <tr>\n      <th>0</th>\n      <td>5SuOikwiRyPMVoIQDJUgSV</td>\n      <td>Gen Hoshino</td>\n      <td>Comedy</td>\n      <td>Comedy</td>\n      <td>73</td>\n      <td>230666</td>\n      <td>False</td>\n      <td>0.676</td>\n      <td>0.4610</td>\n      <td>1</td>\n      <td>-6.746</td>\n      <td>0</td>\n      <td>0.1430</td>\n      <td>0.0322</td>\n      <td>0.000001</td>\n      <td>0.3580</td>\n      <td>0.715</td>\n      <td>87.917</td>\n      <td>4</td>\n      <td>acoustic</td>\n    </tr>\n    <tr>\n      <th>1</th>\n      <td>4qPNDBW1i3p13qLCt0Ki3A</td>\n      <td>Ben Woodward</td>\n      <td>Ghost (Acoustic)</td>\n      <td>Ghost - Acoustic</td>\n      <td>55</td>\n      <td>149610</td>\n      <td>False</td>\n      <td>0.420</td>\n      <td>0.1660</td>\n      <td>1</td>\n      <td>-17.235</td>\n      <td>1</td>\n      <td>0.0763</td>\n      <td>0.9240</td>\n      <td>0.000006</td>\n      <td>0.1010</td>\n      <td>0.267</td>\n      <td>77.489</td>\n      <td>4</td>\n      <td>acoustic</td>\n    </tr>\n    <tr>\n      <th>2</th>\n      <td>1iJBSr7s7jYXzM8EGcbK5b</td>\n      <td>Ingrid Michaelson;ZAYN</td>\n      <td>To Begin Again</td>\n      <td>To Begin Again</td>\n      <td>57</td>\n      <td>210826</td>\n      <td>False</td>\n      <td>0.438</td>\n      <td>0.3590</td>\n      <td>0</td>\n      <td>-9.734</td>\n      <td>1</td>\n      <td>0.0557</td>\n      <td>0.2100</td>\n      <td>0.000000</td>\n      <td>0.1170</td>\n      <td>0.120</td>\n      <td>76.332</td>\n      <td>4</td>\n      <td>acoustic</td>\n    </tr>\n    <tr>\n      <th>3</th>\n      <td>6lfxq3CG4xtTiEg7opyCyx</td>\n      <td>Kina Grannis</td>\n      <td>Crazy Rich Asians (Original Motion Picture Sou...</td>\n      <td>Can't Help Falling In Love</td>\n      <td>71</td>\n      <td>201933</td>\n      <td>False</td>\n      <td>0.266</td>\n      <td>0.0596</td>\n      <td>0</td>\n      <td>-18.515</td>\n      <td>1</td>\n      <td>0.0363</td>\n      <td>0.9050</td>\n      <td>0.000071</td>\n      <td>0.1320</td>\n      <td>0.143</td>\n      <td>181.740</td>\n      <td>3</td>\n      <td>acoustic</td>\n    </tr>\n    <tr>\n      <th>4</th>\n      <td>5vjLSffimiIP26QG5WcN2K</td>\n      <td>Chord Overstreet</td>\n      <td>Hold On</td>\n      <td>Hold On</td>\n      <td>82</td>\n      <td>198853</td>\n      <td>False</td>\n      <td>0.618</td>\n      <td>0.4430</td>\n      <td>2</td>\n      <td>-9.681</td>\n      <td>1</td>\n      <td>0.0526</td>\n      <td>0.4690</td>\n      <td>0.000000</td>\n      <td>0.0829</td>\n      <td>0.167</td>\n      <td>119.949</td>\n      <td>4</td>\n      <td>acoustic</td>\n    </tr>\n  </tbody>\n</table>\n</div>"
     },
     "execution_count": 8,
     "metadata": {},
     "output_type": "execute_result"
    }
   ],
   "source": [
    "# import song data\n",
    "song_df = pd.read_csv('spotify.csv')\n",
    "song_df.drop('Unnamed: 0', inplace=True, axis=1)\n",
    "song_df.head()\n"
   ]
  },
  {
   "cell_type": "code",
   "outputs": [],
   "source": [],
   "metadata": {
    "collapsed": false
   }
  },
  {
   "cell_type": "code",
   "outputs": [
    {
     "data": {
      "text/plain": "                 track_id                 artists  \\\n0  5SuOikwiRyPMVoIQDJUgSV             Gen Hoshino   \n1  4qPNDBW1i3p13qLCt0Ki3A            Ben Woodward   \n2  1iJBSr7s7jYXzM8EGcbK5b  Ingrid Michaelson;ZAYN   \n3  6lfxq3CG4xtTiEg7opyCyx            Kina Grannis   \n4  5vjLSffimiIP26QG5WcN2K        Chord Overstreet   \n\n                                          album_name  \\\n0                                             Comedy   \n1                                   Ghost (Acoustic)   \n2                                     To Begin Again   \n3  Crazy Rich Asians (Original Motion Picture Sou...   \n4                                            Hold On   \n\n                   track_name  popularity  duration_ms  explicit  \\\n0                      Comedy        0.73       230666     False   \n1            Ghost - Acoustic        0.55       149610     False   \n2              To Begin Again        0.57       210826     False   \n3  Can't Help Falling In Love        0.71       201933     False   \n4                     Hold On        0.82       198853     False   \n\n   danceability  energy  key  loudness  mode  speechiness  acousticness  \\\n0         0.676  0.4610    1  0.791392     0       0.1430      0.032329   \n1         0.420  0.1660    1  0.597377     1       0.0763      0.927711   \n2         0.438  0.3590    0  0.736123     1       0.0557      0.210843   \n3         0.266  0.0596    0  0.573701     1       0.0363      0.908635   \n4         0.618  0.4430    2  0.737103     1       0.0526      0.470884   \n\n   instrumentalness  liveness   valence     tempo  time_signature track_genre  \n0          0.000001    0.3580  0.718593  0.361245               4    acoustic  \n1          0.000006    0.1010  0.268342  0.318397               4    acoustic  \n2          0.000000    0.1170  0.120603  0.313643               4    acoustic  \n3          0.000071    0.1320  0.143719  0.746758               3    acoustic  \n4          0.000000    0.0829  0.167839  0.492863               4    acoustic  ",
      "text/html": "<div>\n<style scoped>\n    .dataframe tbody tr th:only-of-type {\n        vertical-align: middle;\n    }\n\n    .dataframe tbody tr th {\n        vertical-align: top;\n    }\n\n    .dataframe thead th {\n        text-align: right;\n    }\n</style>\n<table border=\"1\" class=\"dataframe\">\n  <thead>\n    <tr style=\"text-align: right;\">\n      <th></th>\n      <th>track_id</th>\n      <th>artists</th>\n      <th>album_name</th>\n      <th>track_name</th>\n      <th>popularity</th>\n      <th>duration_ms</th>\n      <th>explicit</th>\n      <th>danceability</th>\n      <th>energy</th>\n      <th>key</th>\n      <th>loudness</th>\n      <th>mode</th>\n      <th>speechiness</th>\n      <th>acousticness</th>\n      <th>instrumentalness</th>\n      <th>liveness</th>\n      <th>valence</th>\n      <th>tempo</th>\n      <th>time_signature</th>\n      <th>track_genre</th>\n    </tr>\n  </thead>\n  <tbody>\n    <tr>\n      <th>0</th>\n      <td>5SuOikwiRyPMVoIQDJUgSV</td>\n      <td>Gen Hoshino</td>\n      <td>Comedy</td>\n      <td>Comedy</td>\n      <td>0.73</td>\n      <td>230666</td>\n      <td>False</td>\n      <td>0.676</td>\n      <td>0.4610</td>\n      <td>1</td>\n      <td>0.791392</td>\n      <td>0</td>\n      <td>0.1430</td>\n      <td>0.032329</td>\n      <td>0.000001</td>\n      <td>0.3580</td>\n      <td>0.718593</td>\n      <td>0.361245</td>\n      <td>4</td>\n      <td>acoustic</td>\n    </tr>\n    <tr>\n      <th>1</th>\n      <td>4qPNDBW1i3p13qLCt0Ki3A</td>\n      <td>Ben Woodward</td>\n      <td>Ghost (Acoustic)</td>\n      <td>Ghost - Acoustic</td>\n      <td>0.55</td>\n      <td>149610</td>\n      <td>False</td>\n      <td>0.420</td>\n      <td>0.1660</td>\n      <td>1</td>\n      <td>0.597377</td>\n      <td>1</td>\n      <td>0.0763</td>\n      <td>0.927711</td>\n      <td>0.000006</td>\n      <td>0.1010</td>\n      <td>0.268342</td>\n      <td>0.318397</td>\n      <td>4</td>\n      <td>acoustic</td>\n    </tr>\n    <tr>\n      <th>2</th>\n      <td>1iJBSr7s7jYXzM8EGcbK5b</td>\n      <td>Ingrid Michaelson;ZAYN</td>\n      <td>To Begin Again</td>\n      <td>To Begin Again</td>\n      <td>0.57</td>\n      <td>210826</td>\n      <td>False</td>\n      <td>0.438</td>\n      <td>0.3590</td>\n      <td>0</td>\n      <td>0.736123</td>\n      <td>1</td>\n      <td>0.0557</td>\n      <td>0.210843</td>\n      <td>0.000000</td>\n      <td>0.1170</td>\n      <td>0.120603</td>\n      <td>0.313643</td>\n      <td>4</td>\n      <td>acoustic</td>\n    </tr>\n    <tr>\n      <th>3</th>\n      <td>6lfxq3CG4xtTiEg7opyCyx</td>\n      <td>Kina Grannis</td>\n      <td>Crazy Rich Asians (Original Motion Picture Sou...</td>\n      <td>Can't Help Falling In Love</td>\n      <td>0.71</td>\n      <td>201933</td>\n      <td>False</td>\n      <td>0.266</td>\n      <td>0.0596</td>\n      <td>0</td>\n      <td>0.573701</td>\n      <td>1</td>\n      <td>0.0363</td>\n      <td>0.908635</td>\n      <td>0.000071</td>\n      <td>0.1320</td>\n      <td>0.143719</td>\n      <td>0.746758</td>\n      <td>3</td>\n      <td>acoustic</td>\n    </tr>\n    <tr>\n      <th>4</th>\n      <td>5vjLSffimiIP26QG5WcN2K</td>\n      <td>Chord Overstreet</td>\n      <td>Hold On</td>\n      <td>Hold On</td>\n      <td>0.82</td>\n      <td>198853</td>\n      <td>False</td>\n      <td>0.618</td>\n      <td>0.4430</td>\n      <td>2</td>\n      <td>0.737103</td>\n      <td>1</td>\n      <td>0.0526</td>\n      <td>0.470884</td>\n      <td>0.000000</td>\n      <td>0.0829</td>\n      <td>0.167839</td>\n      <td>0.492863</td>\n      <td>4</td>\n      <td>acoustic</td>\n    </tr>\n  </tbody>\n</table>\n</div>"
     },
     "execution_count": 10,
     "metadata": {},
     "output_type": "execute_result"
    }
   ],
   "source": [
    "#TODO should we normalize?\n",
    "def normalize(df: pd.DataFrame, columns: list) -> pd.DataFrame:\n",
    "    \"\"\"\n",
    "    Normalize specified columns in the DataFrame using Min-Max scaling.\n",
    "\n",
    "    Args:\n",
    "        df (DataFrame): DataFrame containing the data to be normalized\n",
    "        columns (list): List of column names to be normalized\n",
    "\n",
    "    Returns:\n",
    "        normalized_df (DataFrame): DataFrame with specified columns normalized\n",
    "    \"\"\"\n",
    "    normalized_df = df.copy()\n",
    "    for column in columns:\n",
    "        # Compute min and max values for the column\n",
    "        min_val = df[column].min()\n",
    "        max_val = df[column].max()\n",
    "        # Perform Min-Max scaling\n",
    "        normalized_df[column] = (df[column] - min_val) / (max_val - min_val)\n",
    "    return normalized_df\n",
    "\n",
    "columns_to_normalize = ['popularity', 'energy', 'loudness', 'acousticness',\n",
    "                        'instrumentalness', 'liveness', 'valence', 'tempo']\n",
    "norm_df = normalize(song_df, columns_to_normalize)\n",
    "norm_df.head()"
   ],
   "metadata": {
    "collapsed": false,
    "ExecuteTime": {
     "end_time": "2024-03-19T16:44:01.254079Z",
     "start_time": "2024-03-19T16:44:01.230691Z"
    }
   },
   "execution_count": 10
  },
  {
   "cell_type": "code",
   "execution_count": 11,
   "metadata": {
    "ExecuteTime": {
     "end_time": "2024-03-19T16:44:03.683460Z",
     "start_time": "2024-03-19T16:44:03.681121Z"
    }
   },
   "outputs": [],
   "source": [
    "def row_similarity(row1: pd.Series, row2: pd.Series) -> float:\n",
    "    \"\"\"\n",
    "        Computes similarity between two songs by computing the cosine similarity on\n",
    "        columns of interest.\n",
    "\n",
    "        Args:\n",
    "            row1 (Series): song 1 to compare similarity\n",
    "            row2 (Series): song 2 to compare similarity\n",
    "        \n",
    "        Returns:\n",
    "        sim_score (float): similarity between two songs\n",
    "    \"\"\" \n",
    "    # compute values that represent if the songs have the same artists, album_name, or track_genre\n",
    "    same_artists = 1 if row1['artists'] == row2['artists'] else 0\n",
    "    same_album_name = 1 if row1['album_name'] == row2['album_name'] else 0\n",
    "    same_track_genre = 1 if row1['track_genre'] == row2['track_genre'] else 0\n",
    "\n",
    "    # compute cosine similarity between two songs\n",
    "    sim_score = cosine_similarity([[same_artists, same_album_name, same_track_genre,\n",
    "            row1['popularity'], row1['energy'], row1['loudness'], row1['acousticness'],\n",
    "            row1['instrumentalness'], row1['liveness'], row1['valence'], row1['tempo']]],\n",
    "            [[same_artists, same_album_name, same_track_genre,\n",
    "            row2['popularity'], row2['energy'], row1['loudness'], row1['acousticness'],\n",
    "            row2['instrumentalness'], row2['liveness'], row2['valence'], row2['tempo']]])[0][0]\n",
    "\n",
    "    return sim_score"
   ]
  },
  {
   "cell_type": "code",
   "execution_count": 12,
   "metadata": {
    "ExecuteTime": {
     "end_time": "2024-03-19T16:44:08.682123Z",
     "start_time": "2024-03-19T16:44:08.677116Z"
    }
   },
   "outputs": [],
   "source": [
    "# def compare_all_songs(df: pd.DataFrame) -> pd.DataFrame:\n",
    "#     \"\"\"\n",
    "#         Computes similarity between every pair of unique songs in the given DataFrame.\n",
    "# \n",
    "#         Args:\n",
    "#             df (DataFrame): dataframe of songs\n",
    "#         \n",
    "#         Returns:\n",
    "#         sim_df (DataFrame): dataframe of unique song pairs and their similarity score\n",
    "#     \"\"\" \n",
    "#     # create unique pairs of song rows\n",
    "#     unique_pairs = [(i, row1, j, row2) for i, row1 in df.iterrows() for j, row2 in df.iterrows()if i<j]\n",
    "# \n",
    "#     # create a list of similarity scores for each unique pair\n",
    "#     similarity_scores = [row_similarity(row1, row2) for _, row1, _, row2 in unique_pairs]\n",
    "# \n",
    "#     # get track ids and similarity scores for each unique pair\n",
    "#     track_ids = [(row1['track_id'], row2['track_id']) for _, row1, _, row2 in unique_pairs]\n",
    "#     sim_scores = similarity_scores  \n",
    "# \n",
    "#     # create a dataframe of similairty scores for each unique pair\n",
    "#     sim_df = pd.DataFrame({'track_id1': [t[0] for t in track_ids],\n",
    "#                         'track_id2': [t[1] for t in track_ids],\n",
    "#                         'sim_score': sim_scores})\n",
    "#     return sim_df\n",
    "\n",
    "\n",
    "#TODO I edited yours by adding combinations from itertools to prevent redundant comparisons (like compars song a to b and b to a)\n",
    "def compare_all_songs(df: pd.DataFrame) -> pd.DataFrame:\n",
    "    \"\"\"\n",
    "    Computes similarity between every pair of unique songs in the given DataFrame.\n",
    "\n",
    "    Args:\n",
    "        df (DataFrame): DataFrame of songs\n",
    "\n",
    "    Returns:\n",
    "        sim_df (DataFrame): DataFrame of unique song pairs and their similarity score\n",
    "    \"\"\"\n",
    "    # Initialize lists to store track IDs and similarity scores\n",
    "    track_ids = []\n",
    "    sim_scores = []\n",
    "\n",
    "    # Iterate over unique pairs of song indices\n",
    "    for idx1, idx2 in combinations(df.index, 2):\n",
    "        row1, row2 = df.loc[idx1], df.loc[idx2]\n",
    "        \n",
    "        # Compute similarity between the pair\n",
    "        similarity_score = row_similarity(row1, row2)\n",
    "\n",
    "        # Store track IDs and similarity score\n",
    "        track_ids.append((row1['track_id'], row2['track_id']))\n",
    "        sim_scores.append(similarity_score)\n",
    "\n",
    "    # Create DataFrame from similarity data\n",
    "    sim_df = pd.DataFrame({'track_id1': [t[0] for t in track_ids],\n",
    "                           'track_id2': [t[1] for t in track_ids],\n",
    "                           'sim_score': sim_scores})\n",
    "    \n",
    "    return sim_df"
   ]
  },
  {
   "cell_type": "code",
   "execution_count": 13,
   "metadata": {
    "ExecuteTime": {
     "end_time": "2024-03-19T16:44:12.489309Z",
     "start_time": "2024-03-19T16:44:12.475964Z"
    }
   },
   "outputs": [
    {
     "data": {
      "text/plain": "                 track_id            artists  \\\n0  6KRyTDrXw3InXjfnOB3iCR      Distinguisher   \n1  5Q23x9RyABJ9vx09lNb9hs  Belmonte & Amaraí   \n2  4zqlCicLICAUkPYYqnPbkn      Sajanka;TERRA   \n\n                                     album_name              track_name  \\\n0  Under the Weight of Things I Couldn't Change             Without End   \n1            Luar do Sertão - Belmonte & Amaraí  Saudade Da Minha Terra   \n2                                        Galiya                  Galiya   \n\n   popularity  duration_ms  explicit  danceability  energy  key  loudness  \\\n0          22       154000      True         0.307   0.995    1    -1.696   \n1          46       188826     False         0.749   0.414    1    -7.856   \n2          41       386000     False         0.535   0.732    6    -6.269   \n\n   mode  speechiness  acousticness  instrumentalness  liveness  valence  \\\n0     1       0.2740       0.00015            0.0416    0.1870    0.114   \n1     1       0.0665       0.70900            0.0000    0.2820    0.851   \n2     0       0.0455       0.00584            0.5020    0.0604    0.493   \n\n     tempo  time_signature  track_genre  \n0  197.087               4  death-metal  \n1  109.263               3    sertanejo  \n2  150.025               4       trance  ",
      "text/html": "<div>\n<style scoped>\n    .dataframe tbody tr th:only-of-type {\n        vertical-align: middle;\n    }\n\n    .dataframe tbody tr th {\n        vertical-align: top;\n    }\n\n    .dataframe thead th {\n        text-align: right;\n    }\n</style>\n<table border=\"1\" class=\"dataframe\">\n  <thead>\n    <tr style=\"text-align: right;\">\n      <th></th>\n      <th>track_id</th>\n      <th>artists</th>\n      <th>album_name</th>\n      <th>track_name</th>\n      <th>popularity</th>\n      <th>duration_ms</th>\n      <th>explicit</th>\n      <th>danceability</th>\n      <th>energy</th>\n      <th>key</th>\n      <th>loudness</th>\n      <th>mode</th>\n      <th>speechiness</th>\n      <th>acousticness</th>\n      <th>instrumentalness</th>\n      <th>liveness</th>\n      <th>valence</th>\n      <th>tempo</th>\n      <th>time_signature</th>\n      <th>track_genre</th>\n    </tr>\n  </thead>\n  <tbody>\n    <tr>\n      <th>0</th>\n      <td>6KRyTDrXw3InXjfnOB3iCR</td>\n      <td>Distinguisher</td>\n      <td>Under the Weight of Things I Couldn't Change</td>\n      <td>Without End</td>\n      <td>22</td>\n      <td>154000</td>\n      <td>True</td>\n      <td>0.307</td>\n      <td>0.995</td>\n      <td>1</td>\n      <td>-1.696</td>\n      <td>1</td>\n      <td>0.2740</td>\n      <td>0.00015</td>\n      <td>0.0416</td>\n      <td>0.1870</td>\n      <td>0.114</td>\n      <td>197.087</td>\n      <td>4</td>\n      <td>death-metal</td>\n    </tr>\n    <tr>\n      <th>1</th>\n      <td>5Q23x9RyABJ9vx09lNb9hs</td>\n      <td>Belmonte &amp; Amaraí</td>\n      <td>Luar do Sertão - Belmonte &amp; Amaraí</td>\n      <td>Saudade Da Minha Terra</td>\n      <td>46</td>\n      <td>188826</td>\n      <td>False</td>\n      <td>0.749</td>\n      <td>0.414</td>\n      <td>1</td>\n      <td>-7.856</td>\n      <td>1</td>\n      <td>0.0665</td>\n      <td>0.70900</td>\n      <td>0.0000</td>\n      <td>0.2820</td>\n      <td>0.851</td>\n      <td>109.263</td>\n      <td>3</td>\n      <td>sertanejo</td>\n    </tr>\n    <tr>\n      <th>2</th>\n      <td>4zqlCicLICAUkPYYqnPbkn</td>\n      <td>Sajanka;TERRA</td>\n      <td>Galiya</td>\n      <td>Galiya</td>\n      <td>41</td>\n      <td>386000</td>\n      <td>False</td>\n      <td>0.535</td>\n      <td>0.732</td>\n      <td>6</td>\n      <td>-6.269</td>\n      <td>0</td>\n      <td>0.0455</td>\n      <td>0.00584</td>\n      <td>0.5020</td>\n      <td>0.0604</td>\n      <td>0.493</td>\n      <td>150.025</td>\n      <td>4</td>\n      <td>trance</td>\n    </tr>\n  </tbody>\n</table>\n</div>"
     },
     "execution_count": 13,
     "metadata": {},
     "output_type": "execute_result"
    }
   ],
   "source": [
    "# take a random sample of all songs with a total of 100 songs\n",
    "sample_df = song_df.sample(n=100, replace=False)\n",
    "# get all Strokes songs available \n",
    "strokes_df = song_df[song_df['artists']=='The Strokes']\n",
    "# add all Strokes songs to the sample\n",
    "sample_df = pd.concat([sample_df, strokes_df])\n",
    "# drop duplicate rows from the sample\n",
    "sample_df= sample_df.drop_duplicates().reset_index(drop=True)\n",
    "sample_df.head(3)"
   ]
  },
  {
   "cell_type": "code",
   "execution_count": 14,
   "metadata": {
    "ExecuteTime": {
     "end_time": "2024-03-19T16:44:19.745973Z",
     "start_time": "2024-03-19T16:44:19.738259Z"
    }
   },
   "outputs": [
    {
     "data": {
      "text/plain": "                track_id1               track_id2  sim_score\n0  6KRyTDrXw3InXjfnOB3iCR  5Q23x9RyABJ9vx09lNb9hs   0.958976\n1  6KRyTDrXw3InXjfnOB3iCR  4zqlCicLICAUkPYYqnPbkn   0.987908\n2  6KRyTDrXw3InXjfnOB3iCR  0fonScmHUzC0MglSLn9saA   0.964763",
      "text/html": "<div>\n<style scoped>\n    .dataframe tbody tr th:only-of-type {\n        vertical-align: middle;\n    }\n\n    .dataframe tbody tr th {\n        vertical-align: top;\n    }\n\n    .dataframe thead th {\n        text-align: right;\n    }\n</style>\n<table border=\"1\" class=\"dataframe\">\n  <thead>\n    <tr style=\"text-align: right;\">\n      <th></th>\n      <th>track_id1</th>\n      <th>track_id2</th>\n      <th>sim_score</th>\n    </tr>\n  </thead>\n  <tbody>\n    <tr>\n      <th>0</th>\n      <td>6KRyTDrXw3InXjfnOB3iCR</td>\n      <td>5Q23x9RyABJ9vx09lNb9hs</td>\n      <td>0.958976</td>\n    </tr>\n    <tr>\n      <th>1</th>\n      <td>6KRyTDrXw3InXjfnOB3iCR</td>\n      <td>4zqlCicLICAUkPYYqnPbkn</td>\n      <td>0.987908</td>\n    </tr>\n    <tr>\n      <th>2</th>\n      <td>6KRyTDrXw3InXjfnOB3iCR</td>\n      <td>0fonScmHUzC0MglSLn9saA</td>\n      <td>0.964763</td>\n    </tr>\n  </tbody>\n</table>\n</div>"
     },
     "execution_count": 14,
     "metadata": {},
     "output_type": "execute_result"
    }
   ],
   "source": [
    "# get similarity scores for each row in the sample\n",
    "sim_df = compare_all_songs(sample_df)\n",
    "sim_df.head(3)"
   ]
  },
  {
   "cell_type": "markdown",
   "metadata": {},
   "source": []
  },
  {
   "cell_type": "code",
   "execution_count": 12,
   "metadata": {},
   "outputs": [],
   "source": [
    "# save these scores to a csv\n",
    "sim_df.to_csv('sample_song_similarity.csv', index=False)"
   ]
  },
  {
   "cell_type": "code",
   "execution_count": 13,
   "metadata": {},
   "outputs": [],
   "source": [
    "# save songs in the sample to a csv\n",
    "sample_df.to_csv('sample_songs.csv', index=False)"
   ]
  }
 ],
 "metadata": {
  "kernelspec": {
   "display_name": "Python 3",
   "language": "python",
   "name": "python3"
  },
  "language_info": {
   "codemirror_mode": {
    "name": "ipython",
    "version": 3
   },
   "file_extension": ".py",
   "mimetype": "text/x-python",
   "name": "python",
   "nbconvert_exporter": "python",
   "pygments_lexer": "ipython3",
   "version": "3.11.5"
  }
 },
 "nbformat": 4,
 "nbformat_minor": 2
}
